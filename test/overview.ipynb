{
 "cells": [
  {
   "cell_type": "code",
   "execution_count": 3,
   "metadata": {},
   "outputs": [
    {
     "name": "stdout",
     "output_type": "stream",
     "text": [
      "The autoreload extension is already loaded. To reload it, use:\n",
      "  %reload_ext autoreload\n"
     ]
    }
   ],
   "source": [
    "%load_ext autoreload\n",
    "%autoreload 2"
   ]
  },
  {
   "cell_type": "code",
   "execution_count": 4,
   "metadata": {},
   "outputs": [],
   "source": [
    "import pandas as pd\n",
    "import kraken as kr\n",
    "import matplotlib.pyplot as plt\n",
    "import numpy as np\n",
    "import scanpy as sc"
   ]
  },
  {
   "cell_type": "code",
   "execution_count": null,
   "metadata": {},
   "outputs": [],
   "source": [
    "filenames = ['/home/sebastian/data/placenta_rebuttal/156KS_files/156KS_Decoded_ImmunePanel.csv',\n",
    "'/home/sebastian/data/placenta_rebuttal/156KS_files/156KS_Decoded_KISS and CGA.csv',\n",
    "'/home/sebastian/data/placenta_rebuttal/156KS_files/156KS_Decoded_PlacentaPanel.csv']\n",
    "\n",
    "coord_tables=[]\n",
    "\n",
    "for file_coordinates in filenames:\n",
    "    coord_tables.append(pd.read_csv(file_coordinates))\n",
    "    \n",
    "adata = sc.read_h5ad('/home/sebastian/data/Placenta_normalized_Seurat_markers.h5ad')\n",
    "\n",
    "coordinates=pd.concat(coord_tables)"
   ]
  },
  {
   "cell_type": "code",
   "execution_count": null,
   "metadata": {},
   "outputs": [],
   "source": [
    "coordinates.gene.replace('HBA1/2','HBA1', inplace=True)\n",
    "coordinates.gene.replace('KISS','KISS1', inplace=True)\n",
    "\n",
    "coordinates.index = np.arange(coordinates.shape[0])\n",
    "coordinates"
   ]
  },
  {
   "cell_type": "code",
   "execution_count": null,
   "metadata": {
    "scrolled": false
   },
   "outputs": [],
   "source": [
    "\n",
    "bg = kr.PixelMap(np.load('bg.npy').T,upscale=0.2)\n",
    "\n",
    "sdata = kr.SpatialData(coordinates.gene, \n",
    "                         coordinates.X, \n",
    "                         coordinates.Y,\n",
    "                        pixel_maps=[bg],scanpy=adata,synchronize=True)\n",
    "\n",
    "# sdata = sdata[sdata.gene_id.isin(sdata.stats[sdata.counts>50].gene_ids)].spatial[:4000,:4000]\n",
    "# bg = kr.KDEProjection(sdata,bandwidth=12, upscale=0.1)\n",
    "# sdata.pixel_maps.append(kr.PixelMap(bg.data.sum(-1),upscale=0.1))"
   ]
  },
  {
   "cell_type": "code",
   "execution_count": null,
   "metadata": {
    "scrolled": false
   },
   "outputs": [],
   "source": [
    "plt.figure(figsize=(12,12))\n",
    "\n",
    "sdata.spatial[:2000,:2000].scatter(alpha=1,marker='x')"
   ]
  },
  {
   "cell_type": "code",
   "execution_count": null,
   "metadata": {},
   "outputs": [],
   "source": [
    "plt.figure(figsize=(12,12))\n",
    "\n",
    "sdata[sdata.g.isin(sdata.genes[sdata.stats.counts>1000])].plot_overview()"
   ]
  },
  {
   "cell_type": "code",
   "execution_count": null,
   "metadata": {},
   "outputs": [],
   "source": [
    "plt.figure(figsize=(15,15))\n",
    "sdata[sdata.g.isin(sdata.genes[sdata.stats.counts>1000])].graph.plot_entropy()"
   ]
  },
  {
   "cell_type": "code",
   "execution_count": null,
   "metadata": {},
   "outputs": [],
   "source": [
    "plt.figure(figsize=(15,15))\n",
    "\n",
    "sdata.scanpy.compare_counts()"
   ]
  },
  {
   "cell_type": "code",
   "execution_count": null,
   "metadata": {},
   "outputs": [],
   "source": [
    "sdata_subset = sdata[sdata.g.isin(('PLAC4','FLT1',))]\n",
    "sdata_subset"
   ]
  },
  {
   "cell_type": "code",
   "execution_count": null,
   "metadata": {},
   "outputs": [],
   "source": [
    "sdata.uns"
   ]
  },
  {
   "cell_type": "code",
   "execution_count": null,
   "metadata": {},
   "outputs": [],
   "source": [
    "import squidpy\n",
    "\n",
    "squidpy.gr.co_occurrence(sdata_subset,cluster_key='gene')\n"
   ]
  },
  {
   "cell_type": "code",
   "execution_count": null,
   "metadata": {
    "scrolled": false
   },
   "outputs": [],
   "source": [
    "squidpy.pl.co_occurrence(sdata_subset,cluster_key='gene')"
   ]
  },
  {
   "cell_type": "code",
   "execution_count": null,
   "metadata": {
    "scrolled": false
   },
   "outputs": [],
   "source": [
    "plt.figure(figsize=(15,15))\n",
    "sdata.scatter(marker='x',alpha=1,color='grey')\n",
    "sdata[sdata.gene_annotations=='FN1'].scatter(marker='x',alpha=1,color='lime')\n",
    "sdata[sdata.gene_annotations=='HBA1'].scatter(marker='x',alpha=1,color='r')\n"
   ]
  },
  {
   "cell_type": "code",
   "execution_count": null,
   "metadata": {
    "scrolled": false
   },
   "outputs": [],
   "source": [
    "sdata.plot_radial_distribution(n_neighbors=10, bins=np.linspace(0,90,90))"
   ]
  },
  {
   "cell_type": "code",
   "execution_count": null,
   "metadata": {},
   "outputs": [],
   "source": [
    "sdata[sdata.gene_annotations.isin(sdata.stats[sdata.stats.counts>50].index)]"
   ]
  },
  {
   "cell_type": "code",
   "execution_count": null,
   "metadata": {},
   "outputs": [],
   "source": [
    "assert False"
   ]
  },
  {
   "cell_type": "code",
   "execution_count": null,
   "metadata": {},
   "outputs": [],
   "source": [
    "import scipy.spatial\n",
    "import libpysal as ps\n",
    "from pointpats import PointPattern, PoissonPointProcess, as_window, g#, F, J, K, L, Genv, Fenv, Jenv, Kenv, Lenv\n",
    "from pointpats.distance_statistics import G,F,J,K,L"
   ]
  },
  {
   "cell_type": "code",
   "execution_count": null,
   "metadata": {},
   "outputs": [],
   "source": [
    "pp = PointPattern(np.array(sdata[sdata.gene_annotations=='KISS1'][['X','Y']]))"
   ]
  },
  {
   "cell_type": "code",
   "execution_count": null,
   "metadata": {},
   "outputs": [],
   "source": [
    "gp1 = G(pp, intervals=50)\n",
    "gp1.plot(qq=True)"
   ]
  },
  {
   "cell_type": "code",
   "execution_count": null,
   "metadata": {},
   "outputs": [],
   "source": [
    "kp1 = K(pp)\n",
    "kp1.plot()"
   ]
  },
  {
   "cell_type": "code",
   "execution_count": null,
   "metadata": {},
   "outputs": [],
   "source": [
    "lp1 = L(pp)\n",
    "lp1.plot()"
   ]
  },
  {
   "cell_type": "code",
   "execution_count": null,
   "metadata": {},
   "outputs": [],
   "source": [
    "assert False"
   ]
  },
  {
   "cell_type": "code",
   "execution_count": null,
   "metadata": {},
   "outputs": [],
   "source": [
    "sdata = sdata.spatial[:1000,:1000]\n",
    "#kr.SpatialData(coordinates.gene[subset_mask], coordinates.X[subset_mask], coordinates.Y[subset_mask])#)gene_tag='gene')\n"
   ]
  },
  {
   "cell_type": "code",
   "execution_count": null,
   "metadata": {},
   "outputs": [],
   "source": [
    "np.array(sdata.coordinates).T"
   ]
  },
  {
   "cell_type": "code",
   "execution_count": null,
   "metadata": {},
   "outputs": [],
   "source": [
    "sdata.X\n",
    "\n",
    "hex_to_cartesian = np.array([[0.5,0],[3**0.5/2,3**0.5]])\n",
    "\n",
    "cartesian_to_hex = np.linalg.inv(hex_to_cartesian)\n",
    "# hex_coords = np.inner(np.array(sdata.coordinates).T,cartesian_to_hex[:,:2])\n",
    "\n",
    "\n",
    "plt.figure(figsize=(7,7))\n",
    "# plt.scatter()\n",
    "\n",
    "plt.scatter(*hex_coords.T)\n",
    "# plt.scatter(*sdata.coordinates)\n",
    "\n"
   ]
  },
  {
   "cell_type": "code",
   "execution_count": null,
   "metadata": {},
   "outputs": [],
   "source": [
    "# H = np.array(-count_matrix.multiply(count_matrix_log.todense()).sum(1)).flatten()\n"
   ]
  },
  {
   "cell_type": "code",
   "execution_count": null,
   "metadata": {},
   "outputs": [],
   "source": [
    "Dkl = sdata.knn_clean(n_neighbors=20)"
   ]
  },
  {
   "cell_type": "code",
   "execution_count": null,
   "metadata": {},
   "outputs": [],
   "source": [
    "# plt.figure(figsize=(14,14))\n",
    "\n",
    "# plt.scatter(spatial.X,spatial.Y,c=spatial.gene_ids,cmap='nipy_spectral',s=np.array(-H_.sum(1)).flatten()**2)#c=H)\n",
    "# plt.colorbar()"
   ]
  },
  {
   "cell_type": "code",
   "execution_count": null,
   "metadata": {},
   "outputs": [],
   "source": [
    "plt.figure(figsize=(14,14))\n",
    "\n",
    "mask = Dkl<(Dkl.mean()*3.5)\n",
    "plt.scatter(sdata.X[mask],sdata.Y[mask],c=sdata.gene_ids[mask],cmap='nipy_spectral',\n",
    "            s=10)\n",
    "plt.colorbar()"
   ]
  },
  {
   "cell_type": "code",
   "execution_count": null,
   "metadata": {},
   "outputs": [],
   "source": [
    "sdata[sdata.gene_annotations=='PLAC4'].scatter(color='r')"
   ]
  },
  {
   "cell_type": "code",
   "execution_count": null,
   "metadata": {
    "scrolled": false
   },
   "outputs": [],
   "source": [
    "plt.figure(figsize=(10,10))\n",
    "out = sdata.spatial_decomposition(('Cpne5',),('Cpne5',),n_neighbors=15)"
   ]
  },
  {
   "cell_type": "code",
   "execution_count": null,
   "metadata": {},
   "outputs": [],
   "source": [
    "\n",
    "\n",
    "# plt.imshow((out//out.sum(1)).sum(-1))\n",
    "# cum = out.sum(1).sum(1)\n",
    "# plt.imshow(out.sum(-1))#.T/cum)"
   ]
  },
  {
   "cell_type": "code",
   "execution_count": null,
   "metadata": {},
   "outputs": [],
   "source": [
    "pptt,pptr,clrs=out"
   ]
  },
  {
   "cell_type": "code",
   "execution_count": null,
   "metadata": {},
   "outputs": [],
   "source": [
    "hists.shape"
   ]
  },
  {
   "cell_type": "code",
   "execution_count": null,
   "metadata": {},
   "outputs": [],
   "source": [
    "# kewl,binsx,binsy = (np.histogram2d(pptt,pptr, bins=20))\n",
    "\n",
    "from skimage.filters import gaussian\n",
    "\n",
    "# bg = gaussian(bg,sigma=15)\n",
    "\n",
    "hists = np.array([gaussian(np.histogram2d(pptt[clrs==c],pptr[clrs==c],bins=(binsx,binsy))[0],sigma=2) for c in range(len(sdata.gene_classes))]).T\n",
    "hists_norm = ((hists/hists.sum(0)[:,None]))"
   ]
  },
  {
   "cell_type": "code",
   "execution_count": null,
   "metadata": {
    "scrolled": true
   },
   "outputs": [],
   "source": [
    "# plt.imshow(hists.sum(-1))\n",
    "out=hists_norm.reshape((-1,hists.shape[-1]))\n",
    "out.std(1)"
   ]
  },
  {
   "cell_type": "code",
   "execution_count": null,
   "metadata": {
    "scrolled": false
   },
   "outputs": [],
   "source": [
    "# plt.figure(figsize=(10,10))\n",
    "plt.imshow(out,aspect='auto')"
   ]
  },
  {
   "cell_type": "code",
   "execution_count": null,
   "metadata": {},
   "outputs": [],
   "source": [
    "from sklearn.decomposition import NMF as NMF\n",
    "\n",
    "nmf = NMF(n_components=4, alpha_H=5.0, alpha_W=0.0,  l1_ratio=0.0)\n",
    "facs = nmf.fit_transform(out)\n",
    "comps = nmf.components_\n",
    "facs.shape,comps.shape"
   ]
  },
  {
   "cell_type": "code",
   "execution_count": null,
   "metadata": {
    "scrolled": false
   },
   "outputs": [],
   "source": [
    "facs.shape,nmf.components_.shape\n",
    "\n",
    "for comp in range(comps.shape[0]):\n",
    "    plt.figure(figsize=(10,7))\n",
    "    \n",
    "    print(sdata.gene_classes[comps[comp].argsort()])\n",
    "\n",
    "    plt.subplot(121)\n",
    "    plt.bar(np.arange(comps.shape[1]),comps[comp])#comps[comp])\n",
    "\n",
    "    plt.subplot(122)\n",
    "    img  = facs[:,comp].reshape(hists.shape[:2])\n",
    "    plt.imshow(img.T**1.1/img.sum(1),aspect='auto')"
   ]
  },
  {
   "cell_type": "code",
   "execution_count": null,
   "metadata": {
    "scrolled": false
   },
   "outputs": [],
   "source": [
    "# for i in range(hists.shape[-1]):\n",
    "#     plt.figure(figsize=(7,7))\n",
    "#     plt.imshow(hists[:,:,i].T**1.2/hists[:,:,i].sum(1))\n",
    "#     plt.title(sdata.gene_classes[i])"
   ]
  },
  {
   "cell_type": "code",
   "execution_count": null,
   "metadata": {},
   "outputs": [],
   "source": [
    "coordinates_cortex = pd.read_csv('/home/sebastian/data/ssamLiteDataFinal/CodeluppiosmFISH/coordinates.csv')\n",
    "\n",
    "# mask = (coordinates_cortex.X>1200)&(coordinates_cortex.Y<1000)\n",
    "sdata = kr.SpatialData(coordinates_cortex.genes, coordinates_cortex.X, coordinates_cortex.Y)#)gene_tag='gene')\n",
    "\n",
    "# adata_cortex=sc.read_h5ad(\"data/adata_processed_sc.h5ad\")"
   ]
  },
  {
   "cell_type": "code",
   "execution_count": null,
   "metadata": {},
   "outputs": [],
   "source": [
    "spatial_cortex.plot_entropy()"
   ]
  },
  {
   "cell_type": "code",
   "execution_count": null,
   "metadata": {},
   "outputs": [],
   "source": [
    "Dkl = spatial_cortex.knn_clean(n_neighbors=20)"
   ]
  },
  {
   "cell_type": "code",
   "execution_count": null,
   "metadata": {},
   "outputs": [],
   "source": [
    "Dkl"
   ]
  },
  {
   "cell_type": "code",
   "execution_count": null,
   "metadata": {},
   "outputs": [],
   "source": [
    "plt.figure(figsize=(15,7))\n",
    "\n",
    "plt.subplot(121)\n",
    "plt.scatter(spatial_cortex.X,spatial_cortex.Y,c=spatial_cortex.gene_ids,s=1/(0.01+Dkl**2), cmap='nipy_spectral')\n",
    "\n",
    "# plt.xlim((1500,1700))\n",
    "# plt.ylim((300,500))\n",
    "\n",
    "\n",
    "plt.subplot(122)\n",
    "plt.scatter(spatial_cortex.X,spatial_cortex.Y,c=spatial_cortex.gene_ids,s=(0.01+Dkl**3), cmap='nipy_spectral')\n",
    "\n",
    "plt.xlim((1500,1700))\n",
    "plt.ylim((300,500))"
   ]
  },
  {
   "cell_type": "code",
   "execution_count": null,
   "metadata": {},
   "outputs": [],
   "source": [
    "out = spatial_cortex.spatial_decomposition(('Acta2',))"
   ]
  },
  {
   "cell_type": "code",
   "execution_count": null,
   "metadata": {},
   "outputs": [],
   "source": [
    "plt.figure(figsize=(15,25))\n",
    "spatial.scatter('KISS1',marker='.')"
   ]
  },
  {
   "cell_type": "code",
   "execution_count": null,
   "metadata": {},
   "outputs": [],
   "source": [
    "mus = np.array([14,17,20,40,42,80])\n",
    "sigmas=[1,2]\n",
    "thresholds=[0.2,0.15]\n",
    "\n",
    "def normal_pdf(mu,sigma):\n",
    "    return( 1/(sigma**2*2*np.pi)**0.5 * np.exp(-(mu**2)/(2*sigma**2))  )\n",
    "\n",
    "x = np.linspace(0,100,500)\n",
    "\n",
    "for i in range(len(thresholds)):\n",
    "    threshold=thresholds[i]\n",
    "    sigma=sigmas[i]\n",
    "\n",
    "    y = np.zeros_like(x)\n",
    "\n",
    "    for mu in mus:\n",
    "        y+=normal_pdf(x-mu,sigma)\n",
    "        \n",
    "    plt.figure()\n",
    "\n",
    "    plt.vlines([mus],0,0.3,colors='k', alpha=0.2)  \n",
    "    plt.hlines(threshold,x.min(),x.max(),colors='k')  \n",
    "\n",
    "    filtered = np.ones_like(x)*threshold\n",
    "    filtered[y<=threshold]=np.nan\n",
    "\n",
    "    plt.plot(x,y)\n",
    "\n",
    "    plt.plot(x,filtered,c='r',linewidth=6)\n",
    "\n",
    "    plt.title(f'sigma:{sigma} - threshold:{threshold}')"
   ]
  },
  {
   "cell_type": "code",
   "execution_count": null,
   "metadata": {
    "scrolled": false
   },
   "outputs": [],
   "source": [
    "mus = np.array([[14,20,40,42,79],\n",
    "                [24,33,60,80,81]]).T\n",
    "# sigma=4\n",
    "thresholds=[0.09,0.06,0]\n",
    "\n",
    "clrs = ['k','royalblue','red']\n",
    "\n",
    "def normal_pdf(mu,sigma):\n",
    "    return( 1/(sigma**2*2*np.pi)**0.5 * np.exp(-(mu**2)/(2*sigma**2))  )\n",
    "\n",
    "x = np.linspace(0,100,500)\n",
    "x=np.vstack((x,x))\n",
    "for i in range(len(thresholds)):\n",
    "    threshold=thresholds[i]\n",
    "\n",
    "    y = np.zeros_like(x)\n",
    "\n",
    "    for mu in mus:\n",
    "        y+=normal_pdf(x-mu[:,None],sigma)\n",
    "        \n",
    "    plt.figure()\n",
    "\n",
    "    plt.vlines([mus],0,0.3,colors='k', alpha=0.1)  \n",
    "    plt.hlines(threshold,x.min(),x.max(),colors='k')  \n",
    "\n",
    "    c = np.array([y_.argmax()+1 if y_.max()>threshold else 0 for y_ in y.T])\n",
    "\n",
    "    for j in range(len(clrs)):\n",
    "        filtered = np.ones_like(x[0])*threshold\n",
    "\n",
    "        filtered[c!=j]=np.nan\n",
    "        if j==0: lw=3 \n",
    "        else:lw=7\n",
    "        plt.plot(x[0],filtered,c=clrs[j],linewidth=lw)\n",
    "\n",
    "    for j in range(x.shape[0]):\n",
    "        plt.plot(x[j],y[j],c=clrs[j+1], alpha=0.3)\n",
    "    plt.title(f'sigma:{sigma} - threshold:{threshold}')\n",
    "    \n",
    "\n",
    "    "
   ]
  },
  {
   "cell_type": "code",
   "execution_count": null,
   "metadata": {},
   "outputs": [],
   "source": [
    "# coordinates_cortex.loc[coordinates_cortex.genes=='Lamp5','X']+=np.random.normal(size=((coordinates_cortex.genes=='Lamp5').sum(),))*20\n",
    "# coordinates_cortex.loc[coordinates_cortex.genes=='Lamp5','Y']+=np.random.normal(size=((coordinates_cortex.genes=='Lamp5').sum(),))*20\n",
    "# spatial_cortex = kr.SpatialData(coordinates_cortex.genes, coordinates_cortex.X, coordinates_cortex.Y)#)gene_tag='gene')\n"
   ]
  },
  {
   "cell_type": "code",
   "execution_count": null,
   "metadata": {},
   "outputs": [],
   "source": [
    "coordinates.loc[coordinates.gene=='KISS1','X']+=np.random.normal(size=((coordinates.gene=='KISS1').sum(),))*20\n",
    "coordinates.loc[coordinates.gene=='KISS1','Y']+=np.random.normal(size=((coordinates.gene=='KISS1').sum(),))*20\n",
    "spatial = kr.SpatialData(coordinates.gene, coordinates.X, coordinates.Y)#)gene_tag='gene')\n"
   ]
  },
  {
   "cell_type": "code",
   "execution_count": null,
   "metadata": {},
   "outputs": [],
   "source": [
    "plt.figure(figsize=(15,25))\n",
    "spatial_cortex.scatter('Lamp5',marker='.')"
   ]
  },
  {
   "cell_type": "code",
   "execution_count": null,
   "metadata": {},
   "outputs": [],
   "source": [
    "# spatial_cortex = kr.SpatialData(coordinates_cortex.genes, coordinates_cortex.X, coordinates_cortex.Y)#)gene_tag='gene')\n",
    "spatial.plot_entropy()"
   ]
  },
  {
   "cell_type": "code",
   "execution_count": null,
   "metadata": {},
   "outputs": [],
   "source": [
    "from sklearn.neighbors import NearestNeighbors\n",
    "\n",
    "knn = NearestNeighbors(n_neighbors=12)\n",
    "\n",
    "coords = np.stack([spatial.data.X, spatial.data.Y]).T\n",
    "knn.fit(coords)\n",
    "distances, indices = knn.kneighbors(coords)\n",
    "\n",
    "knn_cells = np.zeros_like(indices)\n",
    "for i in range(indices.shape[1]):\n",
    "    knn_cells[:, i] = spatial.data['gene_id'].iloc[indices[:, i]]\n"
   ]
  },
  {
   "cell_type": "code",
   "execution_count": null,
   "metadata": {
    "scrolled": false
   },
   "outputs": [],
   "source": [
    "plt.figure(figsize=(8,25))\n",
    "\n",
    "H = []\n",
    "\n",
    "for i in range(spatial.data['gene_id'].max()+1):\n",
    "    x = knn_cells[spatial.data.gene_id==i]\n",
    "\n",
    "    _, n_x = np.unique(x[:,1:], return_counts=True)\n",
    "        \n",
    "    p_x = n_x/(n_x.sum())\n",
    "    print(spatial.gene_classes[i], p_x.max())\n",
    "    \n",
    "    h_i = -(p_x*np.log2(p_x)).sum()\n",
    "    H.append(h_i)\n",
    "    plt.plot((p_x)+i/2)\n",
    "    plt.plot(np.zeros_like(p_x)+i/2,c='grey')\n",
    "    \n",
    "# plt.bar(np.arange(len(H)),H)    \n",
    "# plt.yticks(np.arange(len(H))/2,spatial_cortex.gene_classes, rotation=90)\n",
    "plt.yticks(np.arange(len(H))/2,spatial.gene_classes, rotation=0)\n",
    "\n",
    "plt.show()\n",
    "# plt.yscale('log')"
   ]
  },
  {
   "cell_type": "code",
   "execution_count": null,
   "metadata": {},
   "outputs": [],
   "source": [
    "list({\"a\":1,\"c\":1,\"b\":1})"
   ]
  },
  {
   "cell_type": "code",
   "execution_count": null,
   "metadata": {},
   "outputs": [],
   "source": [
    "spatial_cortex.plot_overview()"
   ]
  },
  {
   "cell_type": "code",
   "execution_count": null,
   "metadata": {
    "scrolled": true
   },
   "outputs": [],
   "source": [
    "(adata_cortex,spatial_cortex) = kr.synchronize(adata_cortex,spatial_cortex,0,0)"
   ]
  },
  {
   "cell_type": "code",
   "execution_count": null,
   "metadata": {},
   "outputs": [],
   "source": [
    "plt.figure(figsize=(10,10))\n",
    "kr.compare_counts(adata_cortex,spatial_cortex)"
   ]
  },
  {
   "cell_type": "code",
   "execution_count": null,
   "metadata": {},
   "outputs": [],
   "source": [
    "fig = plt.figure(figsize=(7,7))\n",
    "\n",
    "ax = fig.subplots(1)\n",
    "\n",
    "ax.plot(np.random.normal(size=(30,)))\n",
    "# plt.xticks(np.arange(30),np.arange(30))\n",
    "\n",
    "print(\"Dot per inch(DPI) for the figure is: \", fig.dpi)\n",
    "bbox = ax.get_window_extent().transformed(fig.dpi_scale_trans.inverted())\n",
    "width, height = bbox.width, bbox.height\n",
    "print(\"Axis sizes are(in pixels):\", width, height)\n"
   ]
  },
  {
   "cell_type": "code",
   "execution_count": null,
   "metadata": {},
   "outputs": [],
   "source": [
    "import scvi\n",
    "\n",
    "\n",
    "adata_spatial = scvi.data.smfish(save_path='data/')"
   ]
  },
  {
   "cell_type": "code",
   "execution_count": null,
   "metadata": {},
   "outputs": [],
   "source": [
    "adata_spatial_anterior = scpy.datasets.visium_sge(\n",
    "    sample_id=\"V1_Mouse_Brain_Sagittal_Anterior\"\n",
    ")"
   ]
  },
  {
   "cell_type": "code",
   "execution_count": null,
   "metadata": {},
   "outputs": [],
   "source": [
    "scpy.pl.spatial(adata_spatial_anterior)"
   ]
  },
  {
   "cell_type": "code",
   "execution_count": null,
   "metadata": {},
   "outputs": [],
   "source": [
    "adata_spatial_anterior.uns['spatial'].keys()"
   ]
  },
  {
   "cell_type": "code",
   "execution_count": null,
   "metadata": {},
   "outputs": [],
   "source": [
    "import scipy\n",
    "import sys"
   ]
  },
  {
   "cell_type": "code",
   "execution_count": null,
   "metadata": {
    "scrolled": true
   },
   "outputs": [],
   "source": [
    "                      \n",
    "X = scipy.sparse.csr_matrix((np.ones((coordinates.shape[0],)),\n",
    "                             (np.arange(coordinates.shape[0]),\n",
    "                                          coordinates.gene.apply(lambda x: newobj.var.index.get_loc(x)))),\n",
    "                           shape=(coordinates.shape[0], len(adata.var)))\n",
    "                              \n",
    "# for i,c in coordinates.iterrows():\n",
    "#     newobj.X[i,newobj.var.index==c.gene]=1\n",
    "newobj = scpy.AnnData(X, var=adata.var)\n",
    "    \n",
    "newobj.obsm['spatial']  = np.array(coordinates[['X','Y']])\n",
    "# newobj.obsm['Y']  = np.array(coordinates['Y'])"
   ]
  },
  {
   "cell_type": "code",
   "execution_count": null,
   "metadata": {},
   "outputs": [],
   "source": [
    "                          \n",
    "scpy.pl.spatial(newobj, spot_size=0.5)"
   ]
  },
  {
   "cell_type": "code",
   "execution_count": null,
   "metadata": {
    "scrolled": true
   },
   "outputs": [],
   "source": [
    "# newobj.obsm['spatial']\n",
    "adata_spatial_anterior.uns['spatial']"
   ]
  },
  {
   "cell_type": "code",
   "execution_count": null,
   "metadata": {},
   "outputs": [],
   "source": [
    "import squidpy as sq\n",
    "adata_squid= sq.datasets.slideseqv2()"
   ]
  },
  {
   "cell_type": "code",
   "execution_count": null,
   "metadata": {},
   "outputs": [],
   "source": [
    "scpy.pl.spatial(adata_squid, color=\"cluster\", spot_size=10)"
   ]
  },
  {
   "cell_type": "code",
   "execution_count": null,
   "metadata": {},
   "outputs": [],
   "source": [
    "adata_squid.shape"
   ]
  },
  {
   "cell_type": "code",
   "execution_count": null,
   "metadata": {},
   "outputs": [],
   "source": [
    "plt.imshow(np.linspace)"
   ]
  }
 ],
 "metadata": {
  "kernelspec": {
   "display_name": "Python 3 (ipykernel)",
   "language": "python",
   "name": "python3"
  },
  "language_info": {
   "codemirror_mode": {
    "name": "ipython",
    "version": 3
   },
   "file_extension": ".py",
   "mimetype": "text/x-python",
   "name": "python",
   "nbconvert_exporter": "python",
   "pygments_lexer": "ipython3",
   "version": "3.9.9"
  }
 },
 "nbformat": 4,
 "nbformat_minor": 2
}
